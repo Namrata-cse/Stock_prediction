{
  "nbformat": 4,
  "nbformat_minor": 0,
  "metadata": {
    "colab": {
      "name": "StockPred_RandomForest.ipynb",
      "provenance": [],
      "authorship_tag": "ABX9TyOL8/oNMaNl3kDDB6GJzQ4y",
      "include_colab_link": true
    },
    "kernelspec": {
      "name": "python3",
      "display_name": "Python 3"
    },
    "language_info": {
      "name": "python"
    }
  },
  "cells": [
    {
      "cell_type": "markdown",
      "metadata": {
        "id": "view-in-github",
        "colab_type": "text"
      },
      "source": [
        "<a href=\"https://colab.research.google.com/github/Namrata-cse/Stock_prediction/blob/main/StockPred_RandomForest.ipynb\" target=\"_parent\"><img src=\"https://colab.research.google.com/assets/colab-badge.svg\" alt=\"Open In Colab\"/></a>"
      ]
    },
    {
      "cell_type": "code",
      "source": [
        "!pip install quantrautil"
      ],
      "metadata": {
        "colab": {
          "base_uri": "https://localhost:8080/"
        },
        "id": "9EOwnzyzd51P",
        "outputId": "acd0f052-f715-4749-acc7-0f8dbc632865"
      },
      "execution_count": 18,
      "outputs": [
        {
          "output_type": "stream",
          "name": "stdout",
          "text": [
            "Requirement already satisfied: quantrautil in /usr/local/lib/python3.7/dist-packages (0.0.3)\n",
            "Requirement already satisfied: nsepy>=0.7 in /usr/local/lib/python3.7/dist-packages (from quantrautil) (0.8)\n",
            "Requirement already satisfied: iexfinance>=0.4.1 in /usr/local/lib/python3.7/dist-packages (from quantrautil) (0.5.0)\n",
            "Requirement already satisfied: fix-yahoo-finance>=0.1.0 in /usr/local/lib/python3.7/dist-packages (from quantrautil) (0.1.35)\n",
            "Requirement already satisfied: numpy>=1.15 in /usr/local/lib/python3.7/dist-packages (from fix-yahoo-finance>=0.1.0->quantrautil) (1.21.5)\n",
            "Requirement already satisfied: pandas>=0.24 in /usr/local/lib/python3.7/dist-packages (from fix-yahoo-finance>=0.1.0->quantrautil) (1.3.5)\n",
            "Requirement already satisfied: multitasking>=0.0.7 in /usr/local/lib/python3.7/dist-packages (from fix-yahoo-finance>=0.1.0->quantrautil) (0.0.10)\n",
            "Requirement already satisfied: requests>=2.20 in /usr/local/lib/python3.7/dist-packages (from fix-yahoo-finance>=0.1.0->quantrautil) (2.23.0)\n",
            "Requirement already satisfied: click in /usr/local/lib/python3.7/dist-packages (from nsepy>=0.7->quantrautil) (7.1.2)\n",
            "Requirement already satisfied: six in /usr/local/lib/python3.7/dist-packages (from nsepy>=0.7->quantrautil) (1.15.0)\n",
            "Requirement already satisfied: beautifulsoup4 in /usr/local/lib/python3.7/dist-packages (from nsepy>=0.7->quantrautil) (4.6.3)\n",
            "Requirement already satisfied: lxml in /usr/local/lib/python3.7/dist-packages (from nsepy>=0.7->quantrautil) (4.2.6)\n",
            "Requirement already satisfied: pytz>=2017.3 in /usr/local/lib/python3.7/dist-packages (from pandas>=0.24->fix-yahoo-finance>=0.1.0->quantrautil) (2018.9)\n",
            "Requirement already satisfied: python-dateutil>=2.7.3 in /usr/local/lib/python3.7/dist-packages (from pandas>=0.24->fix-yahoo-finance>=0.1.0->quantrautil) (2.8.2)\n",
            "Requirement already satisfied: urllib3!=1.25.0,!=1.25.1,<1.26,>=1.21.1 in /usr/local/lib/python3.7/dist-packages (from requests>=2.20->fix-yahoo-finance>=0.1.0->quantrautil) (1.24.3)\n",
            "Requirement already satisfied: chardet<4,>=3.0.2 in /usr/local/lib/python3.7/dist-packages (from requests>=2.20->fix-yahoo-finance>=0.1.0->quantrautil) (3.0.4)\n",
            "Requirement already satisfied: idna<3,>=2.5 in /usr/local/lib/python3.7/dist-packages (from requests>=2.20->fix-yahoo-finance>=0.1.0->quantrautil) (2.10)\n",
            "Requirement already satisfied: certifi>=2017.4.17 in /usr/local/lib/python3.7/dist-packages (from requests>=2.20->fix-yahoo-finance>=0.1.0->quantrautil) (2021.10.8)\n"
          ]
        }
      ]
    },
    {
      "cell_type": "code",
      "execution_count": 42,
      "metadata": {
        "id": "qljVUmsjdwo7"
      },
      "outputs": [],
      "source": [
        "# quantrautil will be used to fetch the price data of the BAC stock from yahoo finance.\n",
        "import quantrautil as q\n",
        "import numpy as np\n",
        "from sklearn.ensemble import RandomForestClassifier\n",
        "import pandas as pd\n",
        "from sklearn.metrics import accuracy_score\n",
        "%matplotlib inline\n",
        "import matplotlib.pyplot as plt"
      ]
    },
    {
      "cell_type": "code",
      "source": [
        "#import the price data of BAC stock from quantrautil.\n",
        "data = q.get_data('BAC','2000-1-1','2019-2-1')\n",
        "# The get_data function from quantrautil is used to get the BAC data for 19 years from 1 Jan 2000 to 31 Jan 2019 \n"
      ],
      "metadata": {
        "colab": {
          "base_uri": "https://localhost:8080/"
        },
        "id": "0geTr5HbeXlD",
        "outputId": "4f1da30c-e173-4b68-9855-8dd07ddb2a3e"
      },
      "execution_count": 20,
      "outputs": [
        {
          "output_type": "stream",
          "name": "stderr",
          "text": [
            "Exception in thread Thread-225:\n",
            "Traceback (most recent call last):\n",
            "  File \"/usr/lib/python3.7/threading.py\", line 926, in _bootstrap_inner\n",
            "    self.run()\n",
            "  File \"/usr/lib/python3.7/threading.py\", line 870, in run\n",
            "    self._target(*self._args, **self._kwargs)\n",
            "  File \"/usr/local/lib/python3.7/dist-packages/multitasking/__init__.py\", line 104, in _run_via_pool\n",
            "    return callee(*args, **kwargs)\n",
            "  File \"/usr/local/lib/python3.7/dist-packages/fix_yahoo_finance/__init__.py\", line 322, in _download_one_threaded\n",
            "    period, interval, prepost)\n",
            "  File \"/usr/local/lib/python3.7/dist-packages/fix_yahoo_finance/__init__.py\", line 333, in _download_one\n",
            "    actions=actions, auto_adjust=auto_adjust)\n",
            "  File \"/usr/local/lib/python3.7/dist-packages/fix_yahoo_finance/__init__.py\", line 239, in history\n",
            "    data = data.json()\n",
            "  File \"/usr/local/lib/python3.7/dist-packages/requests/models.py\", line 898, in json\n",
            "    return complexjson.loads(self.text, **kwargs)\n",
            "  File \"/usr/lib/python3.7/json/__init__.py\", line 348, in loads\n",
            "    return _default_decoder.decode(s)\n",
            "  File \"/usr/lib/python3.7/json/decoder.py\", line 337, in decode\n",
            "    obj, end = self.raw_decode(s, idx=_w(s, 0).end())\n",
            "  File \"/usr/lib/python3.7/json/decoder.py\", line 355, in raw_decode\n",
            "    raise JSONDecodeError(\"Expecting value\", s, err.value) from None\n",
            "json.decoder.JSONDecodeError: Expecting value: line 1 column 1 (char 0)\n",
            "\n"
          ]
        }
      ]
    },
    {
      "cell_type": "code",
      "source": [
        "\n",
        "data.tail()"
      ],
      "metadata": {
        "colab": {
          "base_uri": "https://localhost:8080/",
          "height": 381
        },
        "id": "Bxr9cve4e3Cj",
        "outputId": "a703fe4d-90c5-4400-8a5d-c1b3d8fd2437"
      },
      "execution_count": 21,
      "outputs": [
        {
          "output_type": "execute_result",
          "data": {
            "text/plain": [
              "             Open   High    Low  Close  Volume Source\n",
              "Date                                                 \n",
              "2017-03-08  67.70  74.90  67.00  70.55  200493  nsepy\n",
              "2017-03-09  70.05  74.45  69.25  72.40   97649  nsepy\n",
              "2017-03-10  73.40  73.40  69.95  70.00   11007  nsepy\n",
              "2017-03-14  73.00  82.00  70.05  80.90  643894  nsepy\n",
              "2017-03-15  82.85  85.80  78.80  83.10  385258  nsepy"
            ],
            "text/html": [
              "\n",
              "  <div id=\"df-3c18814c-e54e-4750-9f01-c94c9bab409e\">\n",
              "    <div class=\"colab-df-container\">\n",
              "      <div>\n",
              "<style scoped>\n",
              "    .dataframe tbody tr th:only-of-type {\n",
              "        vertical-align: middle;\n",
              "    }\n",
              "\n",
              "    .dataframe tbody tr th {\n",
              "        vertical-align: top;\n",
              "    }\n",
              "\n",
              "    .dataframe thead th {\n",
              "        text-align: right;\n",
              "    }\n",
              "</style>\n",
              "<table border=\"1\" class=\"dataframe\">\n",
              "  <thead>\n",
              "    <tr style=\"text-align: right;\">\n",
              "      <th></th>\n",
              "      <th>Open</th>\n",
              "      <th>High</th>\n",
              "      <th>Low</th>\n",
              "      <th>Close</th>\n",
              "      <th>Volume</th>\n",
              "      <th>Source</th>\n",
              "    </tr>\n",
              "    <tr>\n",
              "      <th>Date</th>\n",
              "      <th></th>\n",
              "      <th></th>\n",
              "      <th></th>\n",
              "      <th></th>\n",
              "      <th></th>\n",
              "      <th></th>\n",
              "    </tr>\n",
              "  </thead>\n",
              "  <tbody>\n",
              "    <tr>\n",
              "      <th>2017-03-08</th>\n",
              "      <td>67.70</td>\n",
              "      <td>74.90</td>\n",
              "      <td>67.00</td>\n",
              "      <td>70.55</td>\n",
              "      <td>200493</td>\n",
              "      <td>nsepy</td>\n",
              "    </tr>\n",
              "    <tr>\n",
              "      <th>2017-03-09</th>\n",
              "      <td>70.05</td>\n",
              "      <td>74.45</td>\n",
              "      <td>69.25</td>\n",
              "      <td>72.40</td>\n",
              "      <td>97649</td>\n",
              "      <td>nsepy</td>\n",
              "    </tr>\n",
              "    <tr>\n",
              "      <th>2017-03-10</th>\n",
              "      <td>73.40</td>\n",
              "      <td>73.40</td>\n",
              "      <td>69.95</td>\n",
              "      <td>70.00</td>\n",
              "      <td>11007</td>\n",
              "      <td>nsepy</td>\n",
              "    </tr>\n",
              "    <tr>\n",
              "      <th>2017-03-14</th>\n",
              "      <td>73.00</td>\n",
              "      <td>82.00</td>\n",
              "      <td>70.05</td>\n",
              "      <td>80.90</td>\n",
              "      <td>643894</td>\n",
              "      <td>nsepy</td>\n",
              "    </tr>\n",
              "    <tr>\n",
              "      <th>2017-03-15</th>\n",
              "      <td>82.85</td>\n",
              "      <td>85.80</td>\n",
              "      <td>78.80</td>\n",
              "      <td>83.10</td>\n",
              "      <td>385258</td>\n",
              "      <td>nsepy</td>\n",
              "    </tr>\n",
              "  </tbody>\n",
              "</table>\n",
              "</div>\n",
              "      <button class=\"colab-df-convert\" onclick=\"convertToInteractive('df-3c18814c-e54e-4750-9f01-c94c9bab409e')\"\n",
              "              title=\"Convert this dataframe to an interactive table.\"\n",
              "              style=\"display:none;\">\n",
              "        \n",
              "  <svg xmlns=\"http://www.w3.org/2000/svg\" height=\"24px\"viewBox=\"0 0 24 24\"\n",
              "       width=\"24px\">\n",
              "    <path d=\"M0 0h24v24H0V0z\" fill=\"none\"/>\n",
              "    <path d=\"M18.56 5.44l.94 2.06.94-2.06 2.06-.94-2.06-.94-.94-2.06-.94 2.06-2.06.94zm-11 1L8.5 8.5l.94-2.06 2.06-.94-2.06-.94L8.5 2.5l-.94 2.06-2.06.94zm10 10l.94 2.06.94-2.06 2.06-.94-2.06-.94-.94-2.06-.94 2.06-2.06.94z\"/><path d=\"M17.41 7.96l-1.37-1.37c-.4-.4-.92-.59-1.43-.59-.52 0-1.04.2-1.43.59L10.3 9.45l-7.72 7.72c-.78.78-.78 2.05 0 2.83L4 21.41c.39.39.9.59 1.41.59.51 0 1.02-.2 1.41-.59l7.78-7.78 2.81-2.81c.8-.78.8-2.07 0-2.86zM5.41 20L4 18.59l7.72-7.72 1.47 1.35L5.41 20z\"/>\n",
              "  </svg>\n",
              "      </button>\n",
              "      \n",
              "  <style>\n",
              "    .colab-df-container {\n",
              "      display:flex;\n",
              "      flex-wrap:wrap;\n",
              "      gap: 12px;\n",
              "    }\n",
              "\n",
              "    .colab-df-convert {\n",
              "      background-color: #E8F0FE;\n",
              "      border: none;\n",
              "      border-radius: 50%;\n",
              "      cursor: pointer;\n",
              "      display: none;\n",
              "      fill: #1967D2;\n",
              "      height: 32px;\n",
              "      padding: 0 0 0 0;\n",
              "      width: 32px;\n",
              "    }\n",
              "\n",
              "    .colab-df-convert:hover {\n",
              "      background-color: #E2EBFA;\n",
              "      box-shadow: 0px 1px 2px rgba(60, 64, 67, 0.3), 0px 1px 3px 1px rgba(60, 64, 67, 0.15);\n",
              "      fill: #174EA6;\n",
              "    }\n",
              "\n",
              "    [theme=dark] .colab-df-convert {\n",
              "      background-color: #3B4455;\n",
              "      fill: #D2E3FC;\n",
              "    }\n",
              "\n",
              "    [theme=dark] .colab-df-convert:hover {\n",
              "      background-color: #434B5C;\n",
              "      box-shadow: 0px 1px 3px 1px rgba(0, 0, 0, 0.15);\n",
              "      filter: drop-shadow(0px 1px 2px rgba(0, 0, 0, 0.3));\n",
              "      fill: #FFFFFF;\n",
              "    }\n",
              "  </style>\n",
              "\n",
              "      <script>\n",
              "        const buttonEl =\n",
              "          document.querySelector('#df-3c18814c-e54e-4750-9f01-c94c9bab409e button.colab-df-convert');\n",
              "        buttonEl.style.display =\n",
              "          google.colab.kernel.accessAllowed ? 'block' : 'none';\n",
              "\n",
              "        async function convertToInteractive(key) {\n",
              "          const element = document.querySelector('#df-3c18814c-e54e-4750-9f01-c94c9bab409e');\n",
              "          const dataTable =\n",
              "            await google.colab.kernel.invokeFunction('convertToInteractive',\n",
              "                                                     [key], {});\n",
              "          if (!dataTable) return;\n",
              "\n",
              "          const docLinkHtml = 'Like what you see? Visit the ' +\n",
              "            '<a target=\"_blank\" href=https://colab.research.google.com/notebooks/data_table.ipynb>data table notebook</a>'\n",
              "            + ' to learn more about interactive tables.';\n",
              "          element.innerHTML = '';\n",
              "          dataTable['output_type'] = 'display_data';\n",
              "          await google.colab.output.renderOutput(dataTable, element);\n",
              "          const docLink = document.createElement('div');\n",
              "          docLink.innerHTML = docLinkHtml;\n",
              "          element.appendChild(docLink);\n",
              "        }\n",
              "      </script>\n",
              "    </div>\n",
              "  </div>\n",
              "  "
            ]
          },
          "metadata": {},
          "execution_count": 21
        }
      ]
    },
    {
      "cell_type": "code",
      "source": [
        "print(data.head())"
      ],
      "metadata": {
        "colab": {
          "base_uri": "https://localhost:8080/"
        },
        "id": "o2RZ221NgVSD",
        "outputId": "6431241d-c3da-4cb6-f4ed-e613e803d32f"
      },
      "execution_count": 22,
      "outputs": [
        {
          "output_type": "stream",
          "name": "stdout",
          "text": [
            "             Open   High    Low  Close Volume Source\n",
            "Date                                                \n",
            "2000-01-03  17.25  18.70  15.30  18.35  88900  nsepy\n",
            "2000-01-04  18.00  19.00  16.05  16.55  39900  nsepy\n",
            "2000-01-05  14.50  17.50  14.50  17.05  14100  nsepy\n",
            "2000-01-06  17.15  17.60  15.75  15.75  11750  nsepy\n",
            "2000-01-07  15.00  15.75  15.00  15.75   2500  nsepy\n"
          ]
        }
      ]
    },
    {
      "cell_type": "code",
      "source": [
        "#Creating input and output dataset\n",
        "# Features construction \n",
        "data['Open-Close'] = (data.Open - data.Close)/data.Open\n",
        "data['High-Low'] = (data.High - data.Low)/data.Low\n",
        "data['percent_change'] = data['Close'].pct_change()\n",
        "data['std_5'] = data['percent_change'].rolling(5).std()\n",
        "data['ret_5'] = data['percent_change'].rolling(5).mean()\n",
        "data.dropna(inplace=True)"
      ],
      "metadata": {
        "id": "IY_2ZEgsgceL"
      },
      "execution_count": 31,
      "outputs": []
    },
    {
      "cell_type": "code",
      "source": [
        "# X is the input variable\n",
        "X = data[['Open-Close', 'High-Low', 'std_5', 'ret_5']]\n",
        "\n",
        "# Y is the target or output variable\n",
        "y = np.where(data['Close'].shift(-1) > data['Close'], 1, -1)"
      ],
      "metadata": {
        "id": "azV-aKY26bwT"
      },
      "execution_count": 33,
      "outputs": []
    },
    {
      "cell_type": "code",
      "source": [
        "#Train Test Split\n",
        "# Total dataset length\n",
        "dataset_length = data.shape[0]\n",
        "\n",
        "# Training dataset length\n",
        "split = int(dataset_length * 0.75)\n",
        "split"
      ],
      "metadata": {
        "colab": {
          "base_uri": "https://localhost:8080/"
        },
        "id": "tanE8ZPyAdg2",
        "outputId": "e5beb341-87c6-4e5f-fe35-e1968d112f83"
      },
      "execution_count": 34,
      "outputs": [
        {
          "output_type": "execute_result",
          "data": {
            "text/plain": [
              "2890"
            ]
          },
          "metadata": {},
          "execution_count": 34
        }
      ]
    },
    {
      "cell_type": "code",
      "source": [
        "# Splitiing the X and y into train and test datasets\n",
        "X_train, X_test = X[:split], X[split:]\n",
        "y_train, y_test = y[:split], y[split:]\n",
        "\n",
        "# Print the size of the train and test dataset\n",
        "print(X_train.shape, X_test.shape)\n",
        "print(y_train.shape, y_test.shape)"
      ],
      "metadata": {
        "colab": {
          "base_uri": "https://localhost:8080/"
        },
        "id": "6Yv-GORmBXZ1",
        "outputId": "4bca9177-5a5c-4b49-aaba-9279cb99dedb"
      },
      "execution_count": 35,
      "outputs": [
        {
          "output_type": "stream",
          "name": "stdout",
          "text": [
            "(2890, 4) (964, 4)\n",
            "(2890,) (964,)\n"
          ]
        }
      ]
    },
    {
      "cell_type": "markdown",
      "source": [
        "Training the machine learning model\n",
        "All set with the data! Let's train a decision tree classifier model. The RandomForestClassifier function from tree is stored in variable ‘clf’ and then a fit method is called on it with ‘X_train’ and ‘y_train’ dataset as the parameters so that the classifier model can learn the relationship between input and output.\n",
        "In [6]:"
      ],
      "metadata": {
        "id": "T0mrGB4zBq1q"
      }
    },
    {
      "cell_type": "code",
      "source": [
        "clf = RandomForestClassifier(random_state=5)"
      ],
      "metadata": {
        "id": "aJ9vVP2bBr8m"
      },
      "execution_count": 36,
      "outputs": []
    },
    {
      "cell_type": "code",
      "source": [
        "# Create the model on train dataset\n",
        "model = clf.fit(X_train, y_train)"
      ],
      "metadata": {
        "id": "7WjQfaDZCEUd"
      },
      "execution_count": 37,
      "outputs": []
    },
    {
      "cell_type": "code",
      "source": [
        "print('Correct Prediction (%): ', accuracy_score(y_test, model.predict(X_test), normalize=True)*100.0)"
      ],
      "metadata": {
        "colab": {
          "base_uri": "https://localhost:8080/"
        },
        "id": "f-ANQ9gpCGff",
        "outputId": "dfc6df2e-b061-4af0-d473-689698a0b9a5"
      },
      "execution_count": 39,
      "outputs": [
        {
          "output_type": "stream",
          "name": "stdout",
          "text": [
            "Correct Prediction (%):  50.0\n"
          ]
        }
      ]
    },
    {
      "cell_type": "code",
      "source": [
        "# Run the code to view the classification report metrics\n",
        "from sklearn.metrics import classification_report\n",
        "report = classification_report(y_test, model.predict(X_test))\n",
        "print(report)"
      ],
      "metadata": {
        "colab": {
          "base_uri": "https://localhost:8080/"
        },
        "id": "q6tsI4qPCjtS",
        "outputId": "0185f706-7324-4ab5-99a1-7735801bc17a"
      },
      "execution_count": 40,
      "outputs": [
        {
          "output_type": "stream",
          "name": "stdout",
          "text": [
            "              precision    recall  f1-score   support\n",
            "\n",
            "          -1       0.55      0.65      0.59       542\n",
            "           1       0.41      0.31      0.35       422\n",
            "\n",
            "    accuracy                           0.50       964\n",
            "   macro avg       0.48      0.48      0.47       964\n",
            "weighted avg       0.49      0.50      0.49       964\n",
            "\n"
          ]
        }
      ]
    },
    {
      "cell_type": "code",
      "source": [
        "data['strategy_returns'] = data.percent_change.shift(-1) * model.predict(X)\n"
      ],
      "metadata": {
        "id": "Q8YzWMvfEoWN"
      },
      "execution_count": 41,
      "outputs": []
    },
    {
      "cell_type": "code",
      "source": [
        "data.strategy_returns[split:].hist()\n",
        "plt.xlabel('Strategy returns (%)')\n",
        "plt.show()"
      ],
      "metadata": {
        "colab": {
          "base_uri": "https://localhost:8080/",
          "height": 279
        },
        "id": "2ifo4ZK2EogC",
        "outputId": "3e28e5c8-cbc3-49b4-cfa9-44a0941bea73"
      },
      "execution_count": 43,
      "outputs": [
        {
          "output_type": "display_data",
          "data": {
            "text/plain": [
              "<Figure size 432x288 with 1 Axes>"
            ],
            "image/png": "[encoded data removed]"
          },
          "metadata": {
            "needs_background": "light"
          }
        }
      ]
    },
    {
      "cell_type": "code",
      "source": [
        "(data.strategy_returns[split:]+1).cumprod().plot()\n",
        "plt.ylabel('Strategy returns (%)')\n",
        "plt.show()"
      ],
      "metadata": {
        "colab": {
          "base_uri": "https://localhost:8080/",
          "height": 279
        },
        "id": "-5Wx5c--FG02",
        "outputId": "a44629c0-de84-4282-ae6a-89b665119aa8"
      },
      "execution_count": 44,
      "outputs": [
        {
          "output_type": "display_data",
          "data": {
            "text/plain": [
              "<Figure size 432x288 with 1 Axes>"
            ],
            "image/png": "[encoded data removed]"
          },
          "metadata": {
            "needs_background": "light"
          }
        }
      ]
    },
    {
      "cell_type": "code",
      "source": [
        ""
      ],
      "metadata": {
        "id": "QH-jwB_aFOOH"
      },
      "execution_count": null,
      "outputs": []
    },
    {
      "cell_type": "code",
      "source": [
        ""
      ],
      "metadata": {
        "id": "zSsMP-HoFOYp"
      },
      "execution_count": null,
      "outputs": []
    }
  ]
}